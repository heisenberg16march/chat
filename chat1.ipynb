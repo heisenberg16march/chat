{
 "cells": [
  {
   "cell_type": "code",
   "execution_count": null,
   "id": "f79b1b4a-0883-4857-a4c4-020e8ef36a3e",
   "metadata": {},
   "outputs": [],
   "source": []
  },
  {
   "cell_type": "code",
   "execution_count": 2,
   "id": "9fa805f2-d120-4916-89c6-cbb1e61b52ee",
   "metadata": {},
   "outputs": [],
   "source": [
    "import pandas as pd\n",
    "import numpy as np\n",
    "import warnings\n",
    "warnings.filterwarnings(\"ignore\")\n",
    "import plotly.express as px\n",
    "from sklearn.model_selection import train_test_split\n",
    "from sklearn.feature_extraction.text import TfidfVectorizer\n",
    "from sklearn.svm import LinearSVC\n",
    "from sklearn.metrics import classification_report\n",
    "from string import punctuation\n",
    "import re"
   ]
  },
  {
   "cell_type": "code",
   "execution_count": 3,
   "id": "911142ec-75b1-440b-8383-cb1fdf0ce134",
   "metadata": {},
   "outputs": [],
   "source": [
    "import numpy as np # linear algebra\n",
    "import pandas as pd # data processing, CSV file I/O (e.g. pd.read_csv)\n",
    "\n",
    "import os\n",
    "for dirname, _, filenames in os.walk('Mental_Health_FAQ.CSV'):\n",
    "    for filename in filenames:\n",
    "        print(os.path.join(dirname, filename))"
   ]
  },
  {
   "cell_type": "code",
   "execution_count": 4,
   "id": "fcfd1646-a7ad-4cf4-88b3-a9a170dd17a5",
   "metadata": {},
   "outputs": [],
   "source": [
    "import os\n",
    "for dirname, _, filenames in os.walk('full_Chat_data.CSV'):\n",
    "    for filename in filenames:\n",
    "        print(os.path.join(dirname, filename))"
   ]
  },
  {
   "cell_type": "code",
   "execution_count": 5,
   "id": "8ccf2309-e67e-4415-8f41-db8baeced0ba",
   "metadata": {},
   "outputs": [],
   "source": [
    "import os\n",
    "for dirname, _, filenames in os.walk('medquad.CSV'):\n",
    "    for filename in filenames:\n",
    "        print(os.path.join(dirname, filename))"
   ]
  },
  {
   "cell_type": "code",
   "execution_count": 6,
   "id": "db3456f9-bdb6-4661-a4a6-431508cb67b3",
   "metadata": {},
   "outputs": [],
   "source": [
    "import os\n",
    "for dirname, _, filenames in os.walk('train.CSV'):\n",
    "    for filename in filenames:\n",
    "        print(os.path.join(dirname, filename))"
   ]
  },
  {
   "cell_type": "code",
   "execution_count": 7,
   "id": "1106a482-e2b3-40a0-9b30-170e2fd79153",
   "metadata": {},
   "outputs": [
    {
     "name": "stdout",
     "output_type": "stream",
     "text": [
      "There are 98 rows and 3 columns\n"
     ]
    }
   ],
   "source": [
    "nRowsRead = None # specify 'None' if want to read whole file\n",
    "data_mental = pd.read_csv('Mental_Health_FAQ.csv', delimiter=',', nrows = nRowsRead)\n",
    "data_mental.dataframeName = 'Mental_Health_FAQ.csv'\n",
    "nRow, nCol = data_mental.shape\n",
    "print(f'There are {nRow} rows and {nCol} columns')"
   ]
  },
  {
   "cell_type": "code",
   "execution_count": 8,
   "id": "36cb6240-dad3-4d65-bea4-e8fa09de65d9",
   "metadata": {},
   "outputs": [
    {
     "name": "stdout",
     "output_type": "stream",
     "text": [
      "There are 18587 rows and 3 columns\n"
     ]
    }
   ],
   "source": [
    "nRowsRead = None # specify 'None' if want to read whole file\n",
    "data_alz = pd.read_csv('full_Chat_data.csv', delimiter=',', nrows = nRowsRead)\n",
    "data_alz.dataframeName = 'full_Chat_data.csv'\n",
    "nRow, nCol = data_alz.shape\n",
    "print(f'There are {nRow} rows and {nCol} columns')"
   ]
  },
  {
   "cell_type": "code",
   "execution_count": 9,
   "id": "d99a795f-84c0-4c4e-a69c-35a13f09a874",
   "metadata": {},
   "outputs": [
    {
     "name": "stdout",
     "output_type": "stream",
     "text": [
      "There are 16412 rows and 4 columns\n"
     ]
    }
   ],
   "source": [
    "nRowsRead = None # specify 'None' if want to read whole file\n",
    "data_glaucoma = pd.read_csv('medquad.csv', delimiter=',', nrows = nRowsRead)\n",
    "data_glaucoma.dataframeName = 'medquad.csv'\n",
    "nRow, nCol = data_glaucoma.shape\n",
    "print(f'There are {nRow} rows and {nCol} columns')"
   ]
  },
  {
   "cell_type": "code",
   "execution_count": 10,
   "id": "1bc55fb6-07a7-4c5b-88b0-7087ece92084",
   "metadata": {},
   "outputs": [
    {
     "name": "stdout",
     "output_type": "stream",
     "text": [
      "There are 3512 rows and 2 columns\n"
     ]
    }
   ],
   "source": [
    "nRowsRead = None # specify 'None' if want to read whole file\n",
    "data_train = pd.read_csv('train.csv', delimiter=',', nrows = nRowsRead)\n",
    "data_train.dataframeName = 'train.csv'\n",
    "nRow, nCol = data_train.shape\n",
    "print(f'There are {nRow} rows and {nCol} columns')"
   ]
  },
  {
   "cell_type": "code",
   "execution_count": 11,
   "id": "c99f5df0-da65-4ff9-819a-5a0fbf26ae25",
   "metadata": {},
   "outputs": [
    {
     "data": {
      "text/html": [
       "<div>\n",
       "<style scoped>\n",
       "    .dataframe tbody tr th:only-of-type {\n",
       "        vertical-align: middle;\n",
       "    }\n",
       "\n",
       "    .dataframe tbody tr th {\n",
       "        vertical-align: top;\n",
       "    }\n",
       "\n",
       "    .dataframe thead th {\n",
       "        text-align: right;\n",
       "    }\n",
       "</style>\n",
       "<table border=\"1\" class=\"dataframe\">\n",
       "  <thead>\n",
       "    <tr style=\"text-align: right;\">\n",
       "      <th></th>\n",
       "      <th>Questions</th>\n",
       "      <th>Answers</th>\n",
       "    </tr>\n",
       "  </thead>\n",
       "  <tbody>\n",
       "    <tr>\n",
       "      <th>0</th>\n",
       "      <td>What is Alzheimer’s Disease?</td>\n",
       "      <td>Alzheimer’s disease is the most common form of...</td>\n",
       "    </tr>\n",
       "    <tr>\n",
       "      <th>1</th>\n",
       "      <td>What causes Alzheimer's disease?</td>\n",
       "      <td>The fundamental causes of Alzheimer’s disease ...</td>\n",
       "    </tr>\n",
       "    <tr>\n",
       "      <th>2</th>\n",
       "      <td>What are the symptoms of Alzheimer's disease?</td>\n",
       "      <td>Early signs and symptoms of Alzheimer’s diseas...</td>\n",
       "    </tr>\n",
       "    <tr>\n",
       "      <th>3</th>\n",
       "      <td>Is Alzheimer's disease the same thing as demen...</td>\n",
       "      <td>Dementia is a syndrome and has many causes inc...</td>\n",
       "    </tr>\n",
       "    <tr>\n",
       "      <th>4</th>\n",
       "      <td>How common is Alzheimer's disease?</td>\n",
       "      <td>Approximately 50 million people worldwide are ...</td>\n",
       "    </tr>\n",
       "  </tbody>\n",
       "</table>\n",
       "</div>"
      ],
      "text/plain": [
       "                                           Questions  \\\n",
       "0                       What is Alzheimer’s Disease?   \n",
       "1                   What causes Alzheimer's disease?   \n",
       "2      What are the symptoms of Alzheimer's disease?   \n",
       "3  Is Alzheimer's disease the same thing as demen...   \n",
       "4                 How common is Alzheimer's disease?   \n",
       "\n",
       "                                             Answers  \n",
       "0  Alzheimer’s disease is the most common form of...  \n",
       "1  The fundamental causes of Alzheimer’s disease ...  \n",
       "2  Early signs and symptoms of Alzheimer’s diseas...  \n",
       "3  Dementia is a syndrome and has many causes inc...  \n",
       "4  Approximately 50 million people worldwide are ...  "
      ]
     },
     "execution_count": 11,
     "metadata": {},
     "output_type": "execute_result"
    }
   ],
   "source": [
    "select_data_alz = data_alz[['Questions', 'Answers']]\n",
    "select_data_alz.head()"
   ]
  },
  {
   "cell_type": "code",
   "execution_count": 12,
   "id": "6b428a66-5a65-4378-baa9-4e6ee7a1880c",
   "metadata": {},
   "outputs": [
    {
     "data": {
      "text/html": [
       "<div>\n",
       "<style scoped>\n",
       "    .dataframe tbody tr th:only-of-type {\n",
       "        vertical-align: middle;\n",
       "    }\n",
       "\n",
       "    .dataframe tbody tr th {\n",
       "        vertical-align: top;\n",
       "    }\n",
       "\n",
       "    .dataframe thead th {\n",
       "        text-align: right;\n",
       "    }\n",
       "</style>\n",
       "<table border=\"1\" class=\"dataframe\">\n",
       "  <thead>\n",
       "    <tr style=\"text-align: right;\">\n",
       "      <th></th>\n",
       "      <th>Questions</th>\n",
       "      <th>Answers</th>\n",
       "    </tr>\n",
       "  </thead>\n",
       "  <tbody>\n",
       "    <tr>\n",
       "      <th>0</th>\n",
       "      <td>What does it mean to have a mental illness?</td>\n",
       "      <td>Mental illnesses are health conditions that di...</td>\n",
       "    </tr>\n",
       "    <tr>\n",
       "      <th>1</th>\n",
       "      <td>Who does mental illness affect?</td>\n",
       "      <td>It is estimated that mental illness affects 1 ...</td>\n",
       "    </tr>\n",
       "    <tr>\n",
       "      <th>2</th>\n",
       "      <td>What causes mental illness?</td>\n",
       "      <td>It is estimated that mental illness affects 1 ...</td>\n",
       "    </tr>\n",
       "    <tr>\n",
       "      <th>3</th>\n",
       "      <td>What are some of the warning signs of mental i...</td>\n",
       "      <td>Symptoms of mental health disorders vary depen...</td>\n",
       "    </tr>\n",
       "    <tr>\n",
       "      <th>4</th>\n",
       "      <td>Can people with mental illness recover?</td>\n",
       "      <td>When healing from mental illness, early identi...</td>\n",
       "    </tr>\n",
       "  </tbody>\n",
       "</table>\n",
       "</div>"
      ],
      "text/plain": [
       "                                           Questions  \\\n",
       "0        What does it mean to have a mental illness?   \n",
       "1                    Who does mental illness affect?   \n",
       "2                        What causes mental illness?   \n",
       "3  What are some of the warning signs of mental i...   \n",
       "4            Can people with mental illness recover?   \n",
       "\n",
       "                                             Answers  \n",
       "0  Mental illnesses are health conditions that di...  \n",
       "1  It is estimated that mental illness affects 1 ...  \n",
       "2  It is estimated that mental illness affects 1 ...  \n",
       "3  Symptoms of mental health disorders vary depen...  \n",
       "4  When healing from mental illness, early identi...  "
      ]
     },
     "execution_count": 12,
     "metadata": {},
     "output_type": "execute_result"
    }
   ],
   "source": [
    "select_data_mental = data_mental[['Questions', 'Answers']]\n",
    "select_data_mental.head()"
   ]
  },
  {
   "cell_type": "code",
   "execution_count": 13,
   "id": "15112f3d-57a9-4c7b-aba0-9f046db5a61a",
   "metadata": {},
   "outputs": [
    {
     "data": {
      "text/html": [
       "<div>\n",
       "<style scoped>\n",
       "    .dataframe tbody tr th:only-of-type {\n",
       "        vertical-align: middle;\n",
       "    }\n",
       "\n",
       "    .dataframe tbody tr th {\n",
       "        vertical-align: top;\n",
       "    }\n",
       "\n",
       "    .dataframe thead th {\n",
       "        text-align: right;\n",
       "    }\n",
       "</style>\n",
       "<table border=\"1\" class=\"dataframe\">\n",
       "  <thead>\n",
       "    <tr style=\"text-align: right;\">\n",
       "      <th></th>\n",
       "      <th>Context</th>\n",
       "      <th>Response</th>\n",
       "    </tr>\n",
       "  </thead>\n",
       "  <tbody>\n",
       "    <tr>\n",
       "      <th>0</th>\n",
       "      <td>I'm going through some things with my feelings...</td>\n",
       "      <td>If everyone thinks you're worthless, then mayb...</td>\n",
       "    </tr>\n",
       "    <tr>\n",
       "      <th>1</th>\n",
       "      <td>I'm going through some things with my feelings...</td>\n",
       "      <td>Hello, and thank you for your question and see...</td>\n",
       "    </tr>\n",
       "    <tr>\n",
       "      <th>2</th>\n",
       "      <td>I'm going through some things with my feelings...</td>\n",
       "      <td>First thing I'd suggest is getting the sleep y...</td>\n",
       "    </tr>\n",
       "    <tr>\n",
       "      <th>3</th>\n",
       "      <td>I'm going through some things with my feelings...</td>\n",
       "      <td>Therapy is essential for those that are feelin...</td>\n",
       "    </tr>\n",
       "    <tr>\n",
       "      <th>4</th>\n",
       "      <td>I'm going through some things with my feelings...</td>\n",
       "      <td>I first want to let you know that you are not ...</td>\n",
       "    </tr>\n",
       "  </tbody>\n",
       "</table>\n",
       "</div>"
      ],
      "text/plain": [
       "                                             Context  \\\n",
       "0  I'm going through some things with my feelings...   \n",
       "1  I'm going through some things with my feelings...   \n",
       "2  I'm going through some things with my feelings...   \n",
       "3  I'm going through some things with my feelings...   \n",
       "4  I'm going through some things with my feelings...   \n",
       "\n",
       "                                            Response  \n",
       "0  If everyone thinks you're worthless, then mayb...  \n",
       "1  Hello, and thank you for your question and see...  \n",
       "2  First thing I'd suggest is getting the sleep y...  \n",
       "3  Therapy is essential for those that are feelin...  \n",
       "4  I first want to let you know that you are not ...  "
      ]
     },
     "execution_count": 13,
     "metadata": {},
     "output_type": "execute_result"
    }
   ],
   "source": [
    "data_train.head()"
   ]
  },
  {
   "cell_type": "code",
   "execution_count": 14,
   "id": "9a1e3fa8-46fe-4d05-a5a4-00299a6a9f76",
   "metadata": {},
   "outputs": [
    {
     "name": "stdout",
     "output_type": "stream",
     "text": [
      "                                               Questions  \\\n",
      "0                               What is (are) Glaucoma ?   \n",
      "1                                 What causes Glaucoma ?   \n",
      "2                    What are the symptoms of Glaucoma ?   \n",
      "3                 What are the treatments for Glaucoma ?   \n",
      "4                               What is (are) Glaucoma ?   \n",
      "...                                                  ...   \n",
      "16407  What is (are) Diabetic Neuropathies: The Nerve...   \n",
      "16408  How to prevent Diabetic Neuropathies: The Nerv...   \n",
      "16409  How to diagnose Diabetic Neuropathies: The Ner...   \n",
      "16410  What are the treatments for Diabetic Neuropath...   \n",
      "16411  What to do for Diabetic Neuropathies: The Nerv...   \n",
      "\n",
      "                                                 Answers  \n",
      "0      Glaucoma is a group of diseases that can damag...  \n",
      "1      Nearly 2.7 million people have glaucoma, a lea...  \n",
      "2      Symptoms of Glaucoma  Glaucoma can develop in ...  \n",
      "3      Although open-angle glaucoma cannot be cured, ...  \n",
      "4      Glaucoma is a group of diseases that can damag...  \n",
      "...                                                  ...  \n",
      "16407  Focal neuropathy appears suddenly and affects ...  \n",
      "16408  The best way to prevent neuropathy is to keep ...  \n",
      "16409  Doctors diagnose neuropathy on the basis of sy...  \n",
      "16410  The first treatment step is to bring blood glu...  \n",
      "16411  - Diabetic neuropathies are nerve disorders ca...  \n",
      "\n",
      "[16412 rows x 2 columns]\n"
     ]
    }
   ],
   "source": [
    "\n",
    "\n",
    "# Assuming \"data_glaucoma\" is the name of your DataFrame containing the glaucoma dataset\n",
    "# Selecting only the \"question\" and \"answer\" columns and renaming them\n",
    "select_data_glaucoma = data_glaucoma[['question', 'answer']].rename(columns={'question': 'Questions', 'answer': 'Answers'})\n",
    "\n",
    "# Displaying the selected and renamed columns\n",
    "print(select_data_glaucoma)\n"
   ]
  },
  {
   "cell_type": "code",
   "execution_count": 15,
   "id": "61708ed2-7f2d-4cf9-b17a-2478f6039ce2",
   "metadata": {},
   "outputs": [],
   "source": [
    "data = pd.concat([select_data_alz, select_data_mental, select_data_glaucoma], ignore_index=True)"
   ]
  },
  {
   "cell_type": "code",
   "execution_count": null,
   "id": "1710dc81-16db-491d-8ccc-35a06c482743",
   "metadata": {},
   "outputs": [],
   "source": []
  },
  {
   "cell_type": "code",
   "execution_count": 16,
   "id": "745fd87a-5768-4109-af9f-303f2b8e0566",
   "metadata": {},
   "outputs": [],
   "source": [
    "# data = pd.concat([data_alz, data_mental], ignore_index=True)"
   ]
  },
  {
   "cell_type": "code",
   "execution_count": 17,
   "id": "a45fde14-f0ad-43db-b8b2-695b9351f8f3",
   "metadata": {},
   "outputs": [
    {
     "data": {
      "text/html": [
       "<div>\n",
       "<style scoped>\n",
       "    .dataframe tbody tr th:only-of-type {\n",
       "        vertical-align: middle;\n",
       "    }\n",
       "\n",
       "    .dataframe tbody tr th {\n",
       "        vertical-align: top;\n",
       "    }\n",
       "\n",
       "    .dataframe thead th {\n",
       "        text-align: right;\n",
       "    }\n",
       "</style>\n",
       "<table border=\"1\" class=\"dataframe\">\n",
       "  <thead>\n",
       "    <tr style=\"text-align: right;\">\n",
       "      <th></th>\n",
       "      <th>Questions</th>\n",
       "      <th>Answers</th>\n",
       "    </tr>\n",
       "  </thead>\n",
       "  <tbody>\n",
       "    <tr>\n",
       "      <th>0</th>\n",
       "      <td>What is Alzheimer’s Disease?</td>\n",
       "      <td>Alzheimer’s disease is the most common form of...</td>\n",
       "    </tr>\n",
       "    <tr>\n",
       "      <th>1</th>\n",
       "      <td>What causes Alzheimer's disease?</td>\n",
       "      <td>The fundamental causes of Alzheimer’s disease ...</td>\n",
       "    </tr>\n",
       "    <tr>\n",
       "      <th>2</th>\n",
       "      <td>What are the symptoms of Alzheimer's disease?</td>\n",
       "      <td>Early signs and symptoms of Alzheimer’s diseas...</td>\n",
       "    </tr>\n",
       "    <tr>\n",
       "      <th>3</th>\n",
       "      <td>Is Alzheimer's disease the same thing as demen...</td>\n",
       "      <td>Dementia is a syndrome and has many causes inc...</td>\n",
       "    </tr>\n",
       "    <tr>\n",
       "      <th>4</th>\n",
       "      <td>How common is Alzheimer's disease?</td>\n",
       "      <td>Approximately 50 million people worldwide are ...</td>\n",
       "    </tr>\n",
       "  </tbody>\n",
       "</table>\n",
       "</div>"
      ],
      "text/plain": [
       "                                           Questions  \\\n",
       "0                       What is Alzheimer’s Disease?   \n",
       "1                   What causes Alzheimer's disease?   \n",
       "2      What are the symptoms of Alzheimer's disease?   \n",
       "3  Is Alzheimer's disease the same thing as demen...   \n",
       "4                 How common is Alzheimer's disease?   \n",
       "\n",
       "                                             Answers  \n",
       "0  Alzheimer’s disease is the most common form of...  \n",
       "1  The fundamental causes of Alzheimer’s disease ...  \n",
       "2  Early signs and symptoms of Alzheimer’s diseas...  \n",
       "3  Dementia is a syndrome and has many causes inc...  \n",
       "4  Approximately 50 million people worldwide are ...  "
      ]
     },
     "execution_count": 17,
     "metadata": {},
     "output_type": "execute_result"
    }
   ],
   "source": [
    "data.head()"
   ]
  },
  {
   "cell_type": "code",
   "execution_count": 18,
   "id": "8bed64d7-aaba-43dc-b558-251cde0adc33",
   "metadata": {},
   "outputs": [
    {
     "data": {
      "text/plain": [
       "(35097, 2)"
      ]
     },
     "execution_count": 18,
     "metadata": {},
     "output_type": "execute_result"
    }
   ],
   "source": [
    "data.shape"
   ]
  },
  {
   "cell_type": "code",
   "execution_count": 19,
   "id": "dfb859e4-d329-43af-9d67-32e53d30825f",
   "metadata": {},
   "outputs": [],
   "source": [
    "data['Questions'] = data['Questions'].str.lower()"
   ]
  },
  {
   "cell_type": "code",
   "execution_count": 20,
   "id": "544f7be3-8676-4fee-8470-932fc0b50a19",
   "metadata": {},
   "outputs": [],
   "source": [
    "# data_alz['Questions'] = data_alz['Questions'].str.lower()"
   ]
  },
  {
   "cell_type": "code",
   "execution_count": 21,
   "id": "58061751-4831-4f52-9dae-4b6902f1c1e8",
   "metadata": {
    "scrolled": true
   },
   "outputs": [
    {
     "data": {
      "text/html": [
       "<div>\n",
       "<style scoped>\n",
       "    .dataframe tbody tr th:only-of-type {\n",
       "        vertical-align: middle;\n",
       "    }\n",
       "\n",
       "    .dataframe tbody tr th {\n",
       "        vertical-align: top;\n",
       "    }\n",
       "\n",
       "    .dataframe thead th {\n",
       "        text-align: right;\n",
       "    }\n",
       "</style>\n",
       "<table border=\"1\" class=\"dataframe\">\n",
       "  <thead>\n",
       "    <tr style=\"text-align: right;\">\n",
       "      <th></th>\n",
       "      <th>Question_ID</th>\n",
       "      <th>Questions</th>\n",
       "      <th>Answers</th>\n",
       "    </tr>\n",
       "  </thead>\n",
       "  <tbody>\n",
       "    <tr>\n",
       "      <th>0</th>\n",
       "      <td>1590140</td>\n",
       "      <td>What does it mean to have a mental illness?</td>\n",
       "      <td>Mental illnesses are health conditions that di...</td>\n",
       "    </tr>\n",
       "    <tr>\n",
       "      <th>1</th>\n",
       "      <td>2110618</td>\n",
       "      <td>Who does mental illness affect?</td>\n",
       "      <td>It is estimated that mental illness affects 1 ...</td>\n",
       "    </tr>\n",
       "    <tr>\n",
       "      <th>2</th>\n",
       "      <td>6361820</td>\n",
       "      <td>What causes mental illness?</td>\n",
       "      <td>It is estimated that mental illness affects 1 ...</td>\n",
       "    </tr>\n",
       "    <tr>\n",
       "      <th>3</th>\n",
       "      <td>9434130</td>\n",
       "      <td>What are some of the warning signs of mental i...</td>\n",
       "      <td>Symptoms of mental health disorders vary depen...</td>\n",
       "    </tr>\n",
       "    <tr>\n",
       "      <th>4</th>\n",
       "      <td>7657263</td>\n",
       "      <td>Can people with mental illness recover?</td>\n",
       "      <td>When healing from mental illness, early identi...</td>\n",
       "    </tr>\n",
       "  </tbody>\n",
       "</table>\n",
       "</div>"
      ],
      "text/plain": [
       "   Question_ID                                          Questions  \\\n",
       "0      1590140        What does it mean to have a mental illness?   \n",
       "1      2110618                    Who does mental illness affect?   \n",
       "2      6361820                        What causes mental illness?   \n",
       "3      9434130  What are some of the warning signs of mental i...   \n",
       "4      7657263            Can people with mental illness recover?   \n",
       "\n",
       "                                             Answers  \n",
       "0  Mental illnesses are health conditions that di...  \n",
       "1  It is estimated that mental illness affects 1 ...  \n",
       "2  It is estimated that mental illness affects 1 ...  \n",
       "3  Symptoms of mental health disorders vary depen...  \n",
       "4  When healing from mental illness, early identi...  "
      ]
     },
     "execution_count": 21,
     "metadata": {},
     "output_type": "execute_result"
    }
   ],
   "source": [
    "data_mental.head()"
   ]
  },
  {
   "cell_type": "code",
   "execution_count": 22,
   "id": "d9a251f6-0e35-4544-9168-aff8d45aeb53",
   "metadata": {},
   "outputs": [
    {
     "data": {
      "text/html": [
       "<div>\n",
       "<style scoped>\n",
       "    .dataframe tbody tr th:only-of-type {\n",
       "        vertical-align: middle;\n",
       "    }\n",
       "\n",
       "    .dataframe tbody tr th {\n",
       "        vertical-align: top;\n",
       "    }\n",
       "\n",
       "    .dataframe thead th {\n",
       "        text-align: right;\n",
       "    }\n",
       "</style>\n",
       "<table border=\"1\" class=\"dataframe\">\n",
       "  <thead>\n",
       "    <tr style=\"text-align: right;\">\n",
       "      <th></th>\n",
       "      <th>Unnamed: 0</th>\n",
       "      <th>Questions</th>\n",
       "      <th>Answers</th>\n",
       "    </tr>\n",
       "  </thead>\n",
       "  <tbody>\n",
       "    <tr>\n",
       "      <th>0</th>\n",
       "      <td>0</td>\n",
       "      <td>What is Alzheimer’s Disease?</td>\n",
       "      <td>Alzheimer’s disease is the most common form of...</td>\n",
       "    </tr>\n",
       "    <tr>\n",
       "      <th>1</th>\n",
       "      <td>1</td>\n",
       "      <td>What causes Alzheimer's disease?</td>\n",
       "      <td>The fundamental causes of Alzheimer’s disease ...</td>\n",
       "    </tr>\n",
       "    <tr>\n",
       "      <th>2</th>\n",
       "      <td>2</td>\n",
       "      <td>What are the symptoms of Alzheimer's disease?</td>\n",
       "      <td>Early signs and symptoms of Alzheimer’s diseas...</td>\n",
       "    </tr>\n",
       "    <tr>\n",
       "      <th>3</th>\n",
       "      <td>3</td>\n",
       "      <td>Is Alzheimer's disease the same thing as demen...</td>\n",
       "      <td>Dementia is a syndrome and has many causes inc...</td>\n",
       "    </tr>\n",
       "    <tr>\n",
       "      <th>4</th>\n",
       "      <td>4</td>\n",
       "      <td>How common is Alzheimer's disease?</td>\n",
       "      <td>Approximately 50 million people worldwide are ...</td>\n",
       "    </tr>\n",
       "  </tbody>\n",
       "</table>\n",
       "</div>"
      ],
      "text/plain": [
       "   Unnamed: 0                                          Questions  \\\n",
       "0           0                       What is Alzheimer’s Disease?   \n",
       "1           1                   What causes Alzheimer's disease?   \n",
       "2           2      What are the symptoms of Alzheimer's disease?   \n",
       "3           3  Is Alzheimer's disease the same thing as demen...   \n",
       "4           4                 How common is Alzheimer's disease?   \n",
       "\n",
       "                                             Answers  \n",
       "0  Alzheimer’s disease is the most common form of...  \n",
       "1  The fundamental causes of Alzheimer’s disease ...  \n",
       "2  Early signs and symptoms of Alzheimer’s diseas...  \n",
       "3  Dementia is a syndrome and has many causes inc...  \n",
       "4  Approximately 50 million people worldwide are ...  "
      ]
     },
     "execution_count": 22,
     "metadata": {},
     "output_type": "execute_result"
    }
   ],
   "source": [
    "data_alz.head()"
   ]
  },
  {
   "cell_type": "code",
   "execution_count": 23,
   "id": "1937bdcf-52ab-41cb-b5e5-2c3b017ef766",
   "metadata": {},
   "outputs": [
    {
     "data": {
      "text/html": [
       "<div>\n",
       "<style scoped>\n",
       "    .dataframe tbody tr th:only-of-type {\n",
       "        vertical-align: middle;\n",
       "    }\n",
       "\n",
       "    .dataframe tbody tr th {\n",
       "        vertical-align: top;\n",
       "    }\n",
       "\n",
       "    .dataframe thead th {\n",
       "        text-align: right;\n",
       "    }\n",
       "</style>\n",
       "<table border=\"1\" class=\"dataframe\">\n",
       "  <thead>\n",
       "    <tr style=\"text-align: right;\">\n",
       "      <th></th>\n",
       "      <th>Question_ID</th>\n",
       "      <th>Questions</th>\n",
       "      <th>Answers</th>\n",
       "    </tr>\n",
       "  </thead>\n",
       "  <tbody>\n",
       "    <tr>\n",
       "      <th>0</th>\n",
       "      <td>1590140</td>\n",
       "      <td>What does it mean to have a mental illness?</td>\n",
       "      <td>Mental illnesses are health conditions that di...</td>\n",
       "    </tr>\n",
       "    <tr>\n",
       "      <th>1</th>\n",
       "      <td>2110618</td>\n",
       "      <td>Who does mental illness affect?</td>\n",
       "      <td>It is estimated that mental illness affects 1 ...</td>\n",
       "    </tr>\n",
       "    <tr>\n",
       "      <th>2</th>\n",
       "      <td>6361820</td>\n",
       "      <td>What causes mental illness?</td>\n",
       "      <td>It is estimated that mental illness affects 1 ...</td>\n",
       "    </tr>\n",
       "    <tr>\n",
       "      <th>3</th>\n",
       "      <td>9434130</td>\n",
       "      <td>What are some of the warning signs of mental i...</td>\n",
       "      <td>Symptoms of mental health disorders vary depen...</td>\n",
       "    </tr>\n",
       "    <tr>\n",
       "      <th>4</th>\n",
       "      <td>7657263</td>\n",
       "      <td>Can people with mental illness recover?</td>\n",
       "      <td>When healing from mental illness, early identi...</td>\n",
       "    </tr>\n",
       "  </tbody>\n",
       "</table>\n",
       "</div>"
      ],
      "text/plain": [
       "   Question_ID                                          Questions  \\\n",
       "0      1590140        What does it mean to have a mental illness?   \n",
       "1      2110618                    Who does mental illness affect?   \n",
       "2      6361820                        What causes mental illness?   \n",
       "3      9434130  What are some of the warning signs of mental i...   \n",
       "4      7657263            Can people with mental illness recover?   \n",
       "\n",
       "                                             Answers  \n",
       "0  Mental illnesses are health conditions that di...  \n",
       "1  It is estimated that mental illness affects 1 ...  \n",
       "2  It is estimated that mental illness affects 1 ...  \n",
       "3  Symptoms of mental health disorders vary depen...  \n",
       "4  When healing from mental illness, early identi...  "
      ]
     },
     "execution_count": 23,
     "metadata": {},
     "output_type": "execute_result"
    }
   ],
   "source": [
    "data_mental.head()"
   ]
  },
  {
   "cell_type": "code",
   "execution_count": 24,
   "id": "85400a3f-4e99-43d5-bba9-3da6cf29c64b",
   "metadata": {},
   "outputs": [
    {
     "data": {
      "text/plain": [
       "(35097, 2)"
      ]
     },
     "execution_count": 24,
     "metadata": {},
     "output_type": "execute_result"
    }
   ],
   "source": [
    "data.shape"
   ]
  },
  {
   "cell_type": "code",
   "execution_count": 25,
   "id": "998de620-29b6-4636-9678-95ee1475647e",
   "metadata": {},
   "outputs": [],
   "source": [
    "# Remove unnecessary characters\n",
    "data['Questions'] = data['Questions'].str.replace('[^\\w\\s]', '')"
   ]
  },
  {
   "cell_type": "code",
   "execution_count": 26,
   "id": "8a541115-3245-43b1-a58d-4b89b06379e9",
   "metadata": {},
   "outputs": [],
   "source": [
    "# # Remove unnecessary characters\n",
    "# data_mental['Questions'] = data_mental['Questions'].str.replace('[^\\w\\s]', '')"
   ]
  },
  {
   "cell_type": "code",
   "execution_count": 27,
   "id": "6d7e3c8b-c844-4430-82cf-f103a0b10193",
   "metadata": {},
   "outputs": [],
   "source": [
    "# # Handle missing values if any\n",
    "# data.dropna(inplace=True)"
   ]
  },
  {
   "cell_type": "code",
   "execution_count": 28,
   "id": "9684e283-aa94-486c-b9f4-a0a44c97d1fd",
   "metadata": {},
   "outputs": [
    {
     "data": {
      "text/html": [
       "<div>\n",
       "<style scoped>\n",
       "    .dataframe tbody tr th:only-of-type {\n",
       "        vertical-align: middle;\n",
       "    }\n",
       "\n",
       "    .dataframe tbody tr th {\n",
       "        vertical-align: top;\n",
       "    }\n",
       "\n",
       "    .dataframe thead th {\n",
       "        text-align: right;\n",
       "    }\n",
       "</style>\n",
       "<table border=\"1\" class=\"dataframe\">\n",
       "  <thead>\n",
       "    <tr style=\"text-align: right;\">\n",
       "      <th></th>\n",
       "      <th>Questions</th>\n",
       "      <th>Answers</th>\n",
       "    </tr>\n",
       "  </thead>\n",
       "  <tbody>\n",
       "    <tr>\n",
       "      <th>0</th>\n",
       "      <td>what is alzheimers disease</td>\n",
       "      <td>Alzheimer’s disease is the most common form of...</td>\n",
       "    </tr>\n",
       "    <tr>\n",
       "      <th>1</th>\n",
       "      <td>what causes alzheimers disease</td>\n",
       "      <td>The fundamental causes of Alzheimer’s disease ...</td>\n",
       "    </tr>\n",
       "    <tr>\n",
       "      <th>2</th>\n",
       "      <td>what are the symptoms of alzheimers disease</td>\n",
       "      <td>Early signs and symptoms of Alzheimer’s diseas...</td>\n",
       "    </tr>\n",
       "    <tr>\n",
       "      <th>3</th>\n",
       "      <td>is alzheimers disease the same thing as dementia</td>\n",
       "      <td>Dementia is a syndrome and has many causes inc...</td>\n",
       "    </tr>\n",
       "    <tr>\n",
       "      <th>4</th>\n",
       "      <td>how common is alzheimers disease</td>\n",
       "      <td>Approximately 50 million people worldwide are ...</td>\n",
       "    </tr>\n",
       "  </tbody>\n",
       "</table>\n",
       "</div>"
      ],
      "text/plain": [
       "                                          Questions  \\\n",
       "0                        what is alzheimers disease   \n",
       "1                    what causes alzheimers disease   \n",
       "2       what are the symptoms of alzheimers disease   \n",
       "3  is alzheimers disease the same thing as dementia   \n",
       "4                  how common is alzheimers disease   \n",
       "\n",
       "                                             Answers  \n",
       "0  Alzheimer’s disease is the most common form of...  \n",
       "1  The fundamental causes of Alzheimer’s disease ...  \n",
       "2  Early signs and symptoms of Alzheimer’s diseas...  \n",
       "3  Dementia is a syndrome and has many causes inc...  \n",
       "4  Approximately 50 million people worldwide are ...  "
      ]
     },
     "execution_count": 28,
     "metadata": {},
     "output_type": "execute_result"
    }
   ],
   "source": [
    "data.head()"
   ]
  },
  {
   "cell_type": "code",
   "execution_count": 29,
   "id": "de88cfec-5e0a-4ec4-a0cc-8996180a83b4",
   "metadata": {},
   "outputs": [],
   "source": [
    "# # Handle missing values if any\n",
    "# data_mental.dropna(inplace=True)"
   ]
  },
  {
   "cell_type": "code",
   "execution_count": 30,
   "id": "58c64570-f584-489a-853b-9ddc2759282d",
   "metadata": {},
   "outputs": [],
   "source": [
    "data['Intent'] = data['Questions']\n",
    "questions_response_counts = data.groupby('Intent').size().reset_index(name='Count')"
   ]
  },
  {
   "cell_type": "code",
   "execution_count": 31,
   "id": "9842ec45-e7b9-440b-b7d9-545223706f87",
   "metadata": {},
   "outputs": [
    {
     "data": {
      "text/html": [
       "<div>\n",
       "<style scoped>\n",
       "    .dataframe tbody tr th:only-of-type {\n",
       "        vertical-align: middle;\n",
       "    }\n",
       "\n",
       "    .dataframe tbody tr th {\n",
       "        vertical-align: top;\n",
       "    }\n",
       "\n",
       "    .dataframe thead th {\n",
       "        text-align: right;\n",
       "    }\n",
       "</style>\n",
       "<table border=\"1\" class=\"dataframe\">\n",
       "  <thead>\n",
       "    <tr style=\"text-align: right;\">\n",
       "      <th></th>\n",
       "      <th>Questions</th>\n",
       "      <th>Answers</th>\n",
       "      <th>Intent</th>\n",
       "    </tr>\n",
       "  </thead>\n",
       "  <tbody>\n",
       "    <tr>\n",
       "      <th>0</th>\n",
       "      <td>what is alzheimers disease</td>\n",
       "      <td>Alzheimer’s disease is the most common form of...</td>\n",
       "      <td>what is alzheimers disease</td>\n",
       "    </tr>\n",
       "    <tr>\n",
       "      <th>1</th>\n",
       "      <td>what causes alzheimers disease</td>\n",
       "      <td>The fundamental causes of Alzheimer’s disease ...</td>\n",
       "      <td>what causes alzheimers disease</td>\n",
       "    </tr>\n",
       "    <tr>\n",
       "      <th>2</th>\n",
       "      <td>what are the symptoms of alzheimers disease</td>\n",
       "      <td>Early signs and symptoms of Alzheimer’s diseas...</td>\n",
       "      <td>what are the symptoms of alzheimers disease</td>\n",
       "    </tr>\n",
       "    <tr>\n",
       "      <th>3</th>\n",
       "      <td>is alzheimers disease the same thing as dementia</td>\n",
       "      <td>Dementia is a syndrome and has many causes inc...</td>\n",
       "      <td>is alzheimers disease the same thing as dementia</td>\n",
       "    </tr>\n",
       "    <tr>\n",
       "      <th>4</th>\n",
       "      <td>how common is alzheimers disease</td>\n",
       "      <td>Approximately 50 million people worldwide are ...</td>\n",
       "      <td>how common is alzheimers disease</td>\n",
       "    </tr>\n",
       "  </tbody>\n",
       "</table>\n",
       "</div>"
      ],
      "text/plain": [
       "                                          Questions  \\\n",
       "0                        what is alzheimers disease   \n",
       "1                    what causes alzheimers disease   \n",
       "2       what are the symptoms of alzheimers disease   \n",
       "3  is alzheimers disease the same thing as dementia   \n",
       "4                  how common is alzheimers disease   \n",
       "\n",
       "                                             Answers  \\\n",
       "0  Alzheimer’s disease is the most common form of...   \n",
       "1  The fundamental causes of Alzheimer’s disease ...   \n",
       "2  Early signs and symptoms of Alzheimer’s diseas...   \n",
       "3  Dementia is a syndrome and has many causes inc...   \n",
       "4  Approximately 50 million people worldwide are ...   \n",
       "\n",
       "                                             Intent  \n",
       "0                        what is alzheimers disease  \n",
       "1                    what causes alzheimers disease  \n",
       "2       what are the symptoms of alzheimers disease  \n",
       "3  is alzheimers disease the same thing as dementia  \n",
       "4                  how common is alzheimers disease  "
      ]
     },
     "execution_count": 31,
     "metadata": {},
     "output_type": "execute_result"
    }
   ],
   "source": [
    "data.head()"
   ]
  },
  {
   "cell_type": "code",
   "execution_count": 32,
   "id": "6281668d-6af7-4e3f-b607-2094ee0f1a40",
   "metadata": {},
   "outputs": [],
   "source": [
    "# data_mental['Intent'] = data_mental['Questions']\n",
    "# questions_response_counts = data_mental.groupby('Intent').size().reset_index(name='Count')"
   ]
  },
  {
   "cell_type": "code",
   "execution_count": 33,
   "id": "60bb3414-e0cb-4f0f-8ca1-a094c8d167a6",
   "metadata": {},
   "outputs": [],
   "source": [
    "# Exploratory Data Analysis\n",
    "intent_counts = data['Questions'].value_counts()"
   ]
  },
  {
   "cell_type": "code",
   "execution_count": 34,
   "id": "50ef0e30-bf24-4b01-b8ef-90f7183eb1a0",
   "metadata": {},
   "outputs": [],
   "source": [
    "# # Exploratory Data Analysis\n",
    "# intent_counts = data_mental['Questions'].value_counts()"
   ]
  },
  {
   "cell_type": "code",
   "execution_count": 35,
   "id": "d6be7a42-9d60-4554-b128-36df4219e692",
   "metadata": {},
   "outputs": [],
   "source": [
    "# # Visualize intent distribution\n",
    "# fig = px.bar(x=intent_counts.index, y=intent_counts.values, labels={'x': 'Intents', 'y': 'Count'})\n",
    "# fig.show()"
   ]
  },
  {
   "cell_type": "code",
   "execution_count": 36,
   "id": "e6925b28-f769-449d-80ff-cb6daf834687",
   "metadata": {},
   "outputs": [],
   "source": [
    "# # Calculate average number of questions per intent\n",
    "# avg_questions = data.groupby('Intent').size().mean()\n",
    "\n",
    "# # Visualize average pattern count per intent\n",
    "# fig = px.bar(x=questions_response_counts['Intent'], y=questions_response_counts['Count'],\n",
    "#              labels={'x': 'Intents', 'y': 'Average Questions Count'})\n",
    "# fig.show()"
   ]
  },
  {
   "cell_type": "code",
   "execution_count": 37,
   "id": "60b30c31-9f0b-4df1-8a6b-bd346f93ad48",
   "metadata": {},
   "outputs": [],
   "source": [
    "from sklearn.model_selection import train_test_split\n",
    "\n",
    "# Assuming 'data' is your DataFrame containing the 'Questions' and 'Intent' columns\n",
    "# Splitting the dataset into training and testing sets\n",
    "X_train, X_test, y_train, y_test = train_test_split(data['Questions'], data['Intent'], test_size=0.2, random_state=42)\n"
   ]
  },
  {
   "cell_type": "code",
   "execution_count": 1,
   "id": "cb4ecad0-00ff-4d1a-ac05-a06e81106c15",
   "metadata": {
    "scrolled": true
   },
   "outputs": [
    {
     "ename": "NameError",
     "evalue": "name 'X_train' is not defined",
     "output_type": "error",
     "traceback": [
      "\u001b[1;31m---------------------------------------------------------------------------\u001b[0m",
      "\u001b[1;31mNameError\u001b[0m                                 Traceback (most recent call last)",
      "Cell \u001b[1;32mIn[1], line 22\u001b[0m\n\u001b[0;32m     19\u001b[0m     \u001b[38;5;28;01mreturn\u001b[39;00m report, y_pred\n\u001b[0;32m     21\u001b[0m \u001b[38;5;66;03m# Vectorize the text data\u001b[39;00m\n\u001b[1;32m---> 22\u001b[0m X_train_vec, X_test_vec, vectorizer \u001b[38;5;241m=\u001b[39m vectorize_text(\u001b[43mX_train\u001b[49m, X_test)\n\u001b[0;32m     24\u001b[0m \u001b[38;5;66;03m# Train the model\u001b[39;00m\n\u001b[0;32m     25\u001b[0m model \u001b[38;5;241m=\u001b[39m train_model(X_train_vec, y_train)\n",
      "\u001b[1;31mNameError\u001b[0m: name 'X_train' is not defined"
     ]
    }
   ],
   "source": [
    "from sklearn.feature_extraction.text import TfidfVectorizer\n",
    "from sklearn.svm import LinearSVC\n",
    "from sklearn.metrics import classification_report\n",
    "\n",
    "def vectorize_text(X_train, X_test):\n",
    "    vectorizer = TfidfVectorizer()\n",
    "    X_train_vec = vectorizer.fit_transform(X_train)\n",
    "    X_test_vec = vectorizer.transform(X_test)\n",
    "    return X_train_vec, X_test_vec, vectorizer\n",
    "\n",
    "def train_model(X_train_vec, y_train):\n",
    "    model = LinearSVC()\n",
    "    model.fit(X_train_vec, y_train)\n",
    "    return model\n",
    "\n",
    "def evaluate_model(model, X_test_vec, y_test):\n",
    "    y_pred = model.predict(X_test_vec)\n",
    "    report = classification_report(y_test, y_pred)\n",
    "    return report, y_pred\n",
    "\n",
    "# Vectorize the text data\n",
    "X_train_vec, X_test_vec, vectorizer = vectorize_text(X_train, X_test)\n",
    "\n",
    "# Train the model\n",
    "model = train_model(X_train_vec, y_train)\n",
    "\n",
    "# Evaluate the model\n",
    "report, y_pred = evaluate_model(model, X_test_vec, y_test)\n",
    "print(report)\n",
    "\n",
    "# Visualize model performance\n",
    "metrics = ['precision', 'recall', 'f1-score', 'support']\n",
    "scores = classification_report(y_test, y_pred, output_dict=True)['weighted avg']"
   ]
  },
  {
   "cell_type": "code",
   "execution_count": null,
   "id": "2438bcee-ea33-4bae-9750-693200bebb0b",
   "metadata": {},
   "outputs": [],
   "source": [
    "# import numpy as np\n",
    "# from sklearn.feature_extraction.text import TfidfVectorizer\n",
    "# from sklearn.svm import LinearSVC\n",
    "# from sklearn.metrics import classification_report\n",
    "\n",
    "# def attention(query, key, value):\n",
    "#     \"\"\"\n",
    "#     Compute attention weights.\n",
    "    \n",
    "#     Args:\n",
    "#         query (numpy.ndarray): Query vector with shape (query_dim,).\n",
    "#         key (numpy.ndarray): Key vectors with shape (num_keys, key_dim).\n",
    "#         value (numpy.ndarray): Value vectors with shape (num_keys, value_dim).\n",
    "        \n",
    "#     Returns:\n",
    "#         numpy.ndarray: Attention weights with shape (num_keys,).\n",
    "#     \"\"\"\n",
    "#     # Compute unnormalized attention scores\n",
    "#     scores = np.dot(key, query)\n",
    "    \n",
    "#     # Normalize scores to obtain attention weights using softmax\n",
    "#     attention_weights = np.exp(scores) / np.sum(np.exp(scores), axis=0)\n",
    "    \n",
    "#     return attention_weights\n",
    "\n",
    "# def vectorize_text_with_attention(X_train, X_test):\n",
    "#     # Vectorize text data\n",
    "#     vectorizer = TfidfVectorizer()\n",
    "#     X_train_vec = vectorizer.fit_transform(X_train)\n",
    "#     X_test_vec = vectorizer.transform(X_test)\n",
    "    \n",
    "#     # Apply attention mechanism\n",
    "#     attention_weights = []\n",
    "#     for i in range(X_train_vec.shape[0]):\n",
    "#         query = X_train_vec[i].toarray().flatten()  # Convert sparse matrix to dense array\n",
    "#         key = X_train_vec.toarray()  # Convert entire X_train_vec to dense array\n",
    "#         value = X_train_vec.toarray()  # Convert entire X_train_vec to dense array\n",
    "#         attention_weight = attention(query, key, value)\n",
    "#         attention_weights.append(attention_weight)\n",
    "    \n",
    "#     # Apply attention weights to X_train_vec and X_test_vec\n",
    "#     X_train_vec_with_attention = np.multiply(X_train_vec.toarray(), np.array(attention_weights)[:,:,np.newaxis]).mean(axis=1)\n",
    "#     X_test_vec_with_attention = np.multiply(X_test_vec.toarray(), np.array(attention_weights)[:,:,np.newaxis]).mean(axis=1)\n",
    "    \n",
    "#     return X_train_vec_with_attention, X_test_vec_with_attention, vectorizer\n",
    "\n",
    "# # Vectorize the text data with attention mechanism\n",
    "# X_train_vec_with_attention, X_test_vec_with_attention, vectorizer = vectorize_text_with_attention(X_train, X_test)\n",
    "\n",
    "# # Train the model\n",
    "# model = LinearSVC()\n",
    "# model.fit(X_train_vec_with_attention, y_train)\n",
    "\n",
    "# # Evaluate the model\n",
    "# y_pred = model.predict(X_test_vec_with_attention)\n",
    "# report = classification_report(y_test, y_pred)\n",
    "# print(report)\n",
    "\n"
   ]
  },
  {
   "cell_type": "code",
   "execution_count": null,
   "id": "5b917ab0-ebb4-4243-87be-14c45c90c1ab",
   "metadata": {},
   "outputs": [],
   "source": [
    "\n"
   ]
  },
  {
   "cell_type": "code",
   "execution_count": null,
   "id": "efbe8394-021b-4c9a-8823-b8e95ea42fbb",
   "metadata": {},
   "outputs": [],
   "source": [
    "# import numpy as np\n",
    "# from sklearn.feature_extraction.text import TfidfVectorizer\n",
    "# from sklearn.svm import LinearSVC\n",
    "# from sklearn.metrics import classification_report\n",
    "\n",
    "# def batch_vectorize_text(X, vectorizer):\n",
    "#     batch_size = 100  # Define the batch size\n",
    "#     num_batches = len(X) // batch_size + 1\n",
    "#     X_vec = []\n",
    "#     for i in range(num_batches):\n",
    "#         start_idx = i * batch_size\n",
    "#         end_idx = min((i + 1) * batch_size, len(X))\n",
    "#         X_batch = X[start_idx:end_idx]\n",
    "#         X_batch_vec = vectorizer.transform(X_batch)\n",
    "#         X_vec.append(X_batch_vec)\n",
    "#     return np.vstack(X_vec)\n",
    "\n",
    "# def vectorize_text_with_attention(X_train, X_test):\n",
    "#     vectorizer = TfidfVectorizer()\n",
    "#     vectorizer.fit(X_train)\n",
    "#     X_train_vec = batch_vectorize_text(X_train, vectorizer)\n",
    "#     X_test_vec = batch_vectorize_text(X_test, vectorizer)\n",
    "#     return X_train_vec, X_test_vec, vectorizer\n",
    "\n",
    "# def train_model(X_train_vec, y_train):\n",
    "#     model = LinearSVC()\n",
    "#     model.fit(X_train_vec, y_train)  # Convert sparse matrix to dense array\n",
    "#     return model\n",
    "\n",
    "# def evaluate_model(model, X_test_vec, y_test):\n",
    "#     y_pred = model.predict(X_test_vec)\n",
    "#     report = classification_report(y_test, y_pred)\n",
    "#     return report, y_pred\n",
    "\n",
    "# # Vectorize the text data with attention mechanism\n",
    "# X_train_vec_with_attention, X_test_vec_with_attention, vectorizer = vectorize_text_with_attention(X_train, X_test)\n",
    "\n",
    "# # Train the model\n",
    "# model = train_model(X_train_vec_with_attention, y_train)\n",
    "\n",
    "# # Evaluate the model\n",
    "# report, y_pred = evaluate_model(model, X_test_vec_with_attention, y_test)\n",
    "# print(report)\n"
   ]
  },
  {
   "cell_type": "code",
   "execution_count": null,
   "id": "221c3798-eb93-4020-8a44-bce9932cf935",
   "metadata": {},
   "outputs": [],
   "source": [
    "fig = px.bar(x=metrics, y=[scores[metric] for metric in metrics], labels={'x': 'Metrics', 'y': 'Score'})\n",
    "fig.show()"
   ]
  },
  {
   "cell_type": "code",
   "execution_count": null,
   "id": "38cbad7a-41d7-43a5-81a8-f7fba3f4c499",
   "metadata": {},
   "outputs": [],
   "source": [
    "exit_commands = (\"quit\", \"pause\", \"exit\", \"goodbye\", \"bye\", \"later\", \"stop\")\n",
    "\n",
    "print(\"Welcome to the Mental Health FAQ Chatbot!\")\n",
    "print(\"Ask a question or enter 'quit', 'pause', 'exit', 'goodbye', 'bye', 'later', or 'stop' to exit.\")\n",
    "\n",
    "while True:\n",
    "    user_input = input(\"User: \")\n",
    "    \n",
    "    if user_input.lower() in exit_commands:\n",
    "        print(\"Chatbot: Goodbye!\")\n",
    "        break\n",
    "    \n",
    "    # Vectorize user input\n",
    "    user_input_vec = vectorizer.transform([user_input.lower()])\n",
    "    \n",
    "    # Predict the intent\n",
    "    predicted_intent = model.predict(user_input_vec)[0]\n",
    "    \n",
    "    # Implement response generation mechanism based on predicted intent\n",
    "    if predicted_intent in data['Questions'].values:\n",
    "        response = data[data['Questions'] == predicted_intent]['Answers'].values[0]\n",
    "    else:\n",
    "        response = \"Sorry, I don't have information about this topic.\"\n",
    "    \n",
    "    print(\"Chatbot:\", response)"
   ]
  },
  {
   "cell_type": "markdown",
   "id": "74e98158-0871-480b-a339-15475ab856a5",
   "metadata": {},
   "source": [
    "\tAnswers\n",
    "8\tJust as there are different types of medications for physical illness, different treatment options are available for individuals with mental illness. Treatment works differently for different people. It is important to find what works best for you or your child."
   ]
  },
  {
   "cell_type": "code",
   "execution_count": null,
   "id": "f4b425e5-c070-4505-a985-9a550da9a970",
   "metadata": {},
   "outputs": [],
   "source": []
  }
 ],
 "metadata": {
  "kernelspec": {
   "display_name": "Python 3 (ipykernel)",
   "language": "python",
   "name": "python3"
  },
  "language_info": {
   "codemirror_mode": {
    "name": "ipython",
    "version": 3
   },
   "file_extension": ".py",
   "mimetype": "text/x-python",
   "name": "python",
   "nbconvert_exporter": "python",
   "pygments_lexer": "ipython3",
   "version": "3.11.5"
  }
 },
 "nbformat": 4,
 "nbformat_minor": 5
}
